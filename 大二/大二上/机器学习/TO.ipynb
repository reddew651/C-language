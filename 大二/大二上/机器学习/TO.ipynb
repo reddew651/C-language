{
 "cells": [
  {
   "cell_type": "code",
   "execution_count": 1,
   "id": "7593e373-d3b9-462c-86a5-ae7f82ceff22",
   "metadata": {},
   "outputs": [
    {
     "name": "stdout",
     "output_type": "stream",
     "text": [
      "Hello world, copy\n"
     ]
    }
   ],
   "source": [
    "print (\"Hello world, copy\")"
   ]
  },
  {
   "cell_type": "code",
   "execution_count": 3,
   "id": "0f21fb85-01a1-4d6b-95a4-d982b0cad16f",
   "metadata": {},
   "outputs": [
    {
     "name": "stdout",
     "output_type": "stream",
     "text": [
      "right\n",
      "wrong\n"
     ]
    }
   ],
   "source": [
    "if True:\n",
    "    print(\"right\")\n",
    "else:\n",
    "    print(\"f\")\n",
    "print (\"wrong\")"
   ]
  },
  {
   "cell_type": "code",
   "execution_count": 5,
   "id": "63603154-43ee-4967-9b65-eebec6435b99",
   "metadata": {},
   "outputs": [],
   "source": [
    "import pandas as pd\n",
    "import numpy as np"
   ]
  },
  {
   "cell_type": "code",
   "execution_count": 12,
   "id": "4f729268-f1cf-4019-bee6-1556bc529bb9",
   "metadata": {},
   "outputs": [
    {
     "name": "stdout",
     "output_type": "stream",
     "text": [
      "Pregnancies                   int64\n",
      "Glucose                       int64\n",
      "BloodPressure               float64\n",
      "SkinThickness               float64\n",
      "Insulin                       int64\n",
      "BMI                         float64\n",
      "DiabetesPedigreeFunction    float64\n",
      "Age                           int64\n",
      "Outcome                       int64\n",
      "dtype: object\n"
     ]
    }
   ],
   "source": [
    "pima = pd.read_csv(\"diabetes.csv\")\n",
    "print (pima.dtypes)"
   ]
  },
  {
   "cell_type": "code",
   "execution_count": 14,
   "id": "6ae6d5da-5779-476b-8e61-13d5dc30e17d",
   "metadata": {},
   "outputs": [
    {
     "name": "stdout",
     "output_type": "stream",
     "text": [
      "Pregnancies                 0\n",
      "Glucose                     0\n",
      "BloodPressure               1\n",
      "SkinThickness               1\n",
      "Insulin                     0\n",
      "BMI                         0\n",
      "DiabetesPedigreeFunction    1\n",
      "Age                         0\n",
      "Outcome                     0\n",
      "dtype: int64\n"
     ]
    }
   ],
   "source": [
    "print(pima.isnull().sum())"
   ]
  },
  {
   "cell_type": "code",
   "execution_count": 16,
   "id": "0c118f9c-301e-4084-bdca-e1f9e5e14a61",
   "metadata": {},
   "outputs": [
    {
     "name": "stdout",
     "output_type": "stream",
     "text": [
      "   Pregnancies  Glucose  BloodPressure  SkinThickness  Insulin   BMI  \\\n",
      "0            6      148           72.0           35.0        0  33.6   \n",
      "1            1       85           66.0           29.0        0  26.6   \n",
      "2            8      183           64.0            0.0        0  23.3   \n",
      "3            1       89           66.0           23.0       94  28.1   \n",
      "4            0      137           40.0           35.0      168  43.1   \n",
      "5            5      116           74.0            0.0        0  25.6   \n",
      "6            3       78           50.0           32.0       88  31.0   \n",
      "7           10      115            0.0            0.0        0  35.3   \n",
      "8            2      197           70.0           45.0      543  30.5   \n",
      "9            8      125           96.0            0.0        0   0.0   \n",
      "\n",
      "   DiabetesPedigreeFunction  Age  Outcome  \n",
      "0                     0.627   50        1  \n",
      "1                     0.351   31        0  \n",
      "2                     0.672   32        1  \n",
      "3                     0.167   21        0  \n",
      "4                     2.288   33        1  \n",
      "5                     0.201   30        0  \n",
      "6                     0.248   26        1  \n",
      "7                     0.134   29        0  \n",
      "8                     0.158   53        1  \n",
      "9                     0.232   54        1  \n"
     ]
    }
   ],
   "source": [
    "print (pima.head(10))"
   ]
  },
  {
   "cell_type": "code",
   "execution_count": null,
   "id": "8baf13e7-4bd7-4337-a3b7-2969c57de276",
   "metadata": {},
   "outputs": [],
   "source": [
    "import matplotlib.pyplot as plt\n",
    "plt.figure(figsize=(5,4))\n",
    "sb.countplot(pima['Outcome'],palette='OrRd_r',saturation=0.8)\n",
    "plt.tight_layout()\n",
    "plt.grid(True)\n",
    "plt.show()"
   ]
  },
  {
   "cell_type": "code",
   "execution_count": 33,
   "id": "1055dee8-39dc-403b-9641-8df0709630dd",
   "metadata": {},
   "outputs": [
    {
     "name": "stdin",
     "output_type": "stream",
     "text": [
      " 5\n",
      " 32\n",
      " 52\n",
      " 13\n",
      " 1\n",
      " 32\n"
     ]
    },
    {
     "name": "stdout",
     "output_type": "stream",
     "text": [
      "[32, 52, 13, 1, 32]\n"
     ]
    },
    {
     "ename": "TypeError",
     "evalue": "'int' object is not callable",
     "output_type": "error",
     "traceback": [
      "\u001b[0;31m---------------------------------------------------------------------------\u001b[0m",
      "\u001b[0;31mTypeError\u001b[0m                                 Traceback (most recent call last)",
      "Cell \u001b[0;32mIn[33], line 16\u001b[0m\n\u001b[1;32m     13\u001b[0m     a\u001b[38;5;241m.\u001b[39mappend(\u001b[38;5;28mint\u001b[39m(\u001b[38;5;28minput\u001b[39m()))\n\u001b[1;32m     15\u001b[0m \u001b[38;5;28mprint\u001b[39m(a)\n\u001b[0;32m---> 16\u001b[0m bubble(a)\n\u001b[1;32m     17\u001b[0m \u001b[38;5;28mprint\u001b[39m(a)\n",
      "Cell \u001b[0;32mIn[33], line 2\u001b[0m, in \u001b[0;36mbubble\u001b[0;34m(a)\u001b[0m\n\u001b[1;32m      1\u001b[0m \u001b[38;5;28;01mdef\u001b[39;00m \u001b[38;5;21mbubble\u001b[39m(a):\n\u001b[0;32m----> 2\u001b[0m     lens\u001b[38;5;241m=\u001b[39m\u001b[38;5;28mlen\u001b[39m(a)\n\u001b[1;32m      3\u001b[0m     \u001b[38;5;28;01mfor\u001b[39;00m i \u001b[38;5;129;01min\u001b[39;00m \u001b[38;5;28mrange\u001b[39m(lens):\n\u001b[1;32m      4\u001b[0m         \u001b[38;5;28;01mfor\u001b[39;00m j \u001b[38;5;129;01min\u001b[39;00m \u001b[38;5;28mrange\u001b[39m(lens\u001b[38;5;241m-\u001b[39mi\u001b[38;5;241m-\u001b[39m\u001b[38;5;241m1\u001b[39m):\n",
      "\u001b[0;31mTypeError\u001b[0m: 'int' object is not callable"
     ]
    }
   ],
   "source": [
    "def bubble(a):\n",
    "    lens=len(a)\n",
    "    for i in range(lens):\n",
    "        for j in range(lens-i-1):\n",
    "            if a[j]>a[j+1]:\n",
    "                temp=a[j]\n",
    "                a[j]=a[j+1]\n",
    "                a[j+1]=temp\n",
    "\n",
    "a=[]\n",
    "lens=int(input())\n",
    "for i in range(lens):\n",
    "    a.append(int(input()))\n",
    "\n",
    "print(a)\n",
    "bubble(a)\n",
    "print(a)"
   ]
  },
  {
   "cell_type": "code",
   "execution_count": 1,
   "id": "bf96290a-1372-4a9f-b7e5-342642d263ef",
   "metadata": {},
   "outputs": [
    {
     "name": "stdin",
     "output_type": "stream",
     "text": [
      " 4\n",
      " 3\n",
      " 2\n",
      " 1\n",
      " 4\n"
     ]
    },
    {
     "name": "stdout",
     "output_type": "stream",
     "text": [
      "[3, 2, 1, 4]\n",
      "[1, 2, 3, 4]\n"
     ]
    }
   ],
   "source": [
    "def bubble(a):\n",
    "    lens=len(a)\n",
    "    for i in range(lens):\n",
    "        for j in range(lens-i-1):\n",
    "            if a[j]>a[j+1]:\n",
    "                temp=a[j]\n",
    "                a[j]=a[j+1]\n",
    "                a[j+1]=temp\n",
    "\n",
    "a=[]\n",
    "lens=int(input())\n",
    "for i in range(lens):\n",
    "    a.append(int(input()))\n",
    "\n",
    "print(a)\n",
    "bubble(a)\n",
    "print(a)"
   ]
  },
  {
   "cell_type": "code",
   "execution_count": 9,
   "id": "c78de1de-0580-4b06-bd69-4213e152d81e",
   "metadata": {},
   "outputs": [
    {
     "name": "stdin",
     "output_type": "stream",
     "text": [
      " 5\n",
      " 243\n",
      " 43\n",
      " 56245\n",
      " 3\n",
      " 342\n"
     ]
    },
    {
     "name": "stdout",
     "output_type": "stream",
     "text": [
      "[3, 43, 243, 342, 56245]\n"
     ]
    }
   ],
   "source": [
    "def quicksort(a):\n",
    "    if len(a)<=1:\n",
    "        return a\n",
    "    else:\n",
    "        pivot = a[0]\n",
    "        left = [x for x in a[1:] if x <= pivot]\n",
    "        right = [x for x in a[1:] if x >pivot]\n",
    "        return quicksort (left) + [pivot] + quicksort(right)\n",
    "\n",
    "a=[]\n",
    "lens = int(input())\n",
    "for i in range (lens):\n",
    "    a.append(int(input()))\n",
    "a=quicksort(a)\n",
    "print(a)"
   ]
  },
  {
   "cell_type": "code",
   "execution_count": null,
   "id": "1d9bef9c-5215-416b-b5a7-ea1ceb4a187c",
   "metadata": {},
   "outputs": [],
   "source": []
  }
 ],
 "metadata": {
  "kernelspec": {
   "display_name": "Python 3 (ipykernel)",
   "language": "python",
   "name": "python3"
  },
  "language_info": {
   "codemirror_mode": {
    "name": "ipython",
    "version": 3
   },
   "file_extension": ".py",
   "mimetype": "text/x-python",
   "name": "python",
   "nbconvert_exporter": "python",
   "pygments_lexer": "ipython3",
   "version": "3.12.4"
  }
 },
 "nbformat": 4,
 "nbformat_minor": 5
}
