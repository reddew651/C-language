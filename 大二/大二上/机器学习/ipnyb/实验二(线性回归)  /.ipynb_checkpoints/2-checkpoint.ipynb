{
 "cells": [
  {
   "cell_type": "markdown",
   "id": "498d70fa",
   "metadata": {},
   "source": [
    "# 线性回归（二）"
   ]
  },
  {
   "cell_type": "code",
   "execution_count": 1,
   "id": "226badd7",
   "metadata": {},
   "outputs": [],
   "source": [
    "import pandas as pd\n",
    "import numpy as np\n",
    "import matplotlib.pyplot as plt"
   ]
  },
  {
   "cell_type": "markdown",
   "id": "70d2906a",
   "metadata": {},
   "source": [
    "<span style=\"color:purple\">1) 使用pandas库的read_csv()函数(可以参考[pandas的官方文档](https://pandas.pydata.org/docs/reference/api/pandas.read_csv.html))将训练数据集'train.csv'和测试数据集'test.csv'载入到Dataframe对象中。</span>"
   ]
  },
  {
   "cell_type": "code",
   "execution_count": 4,
   "id": "f59640f4",
   "metadata": {},
   "outputs": [
    {
     "name": "stdout",
     "output_type": "stream",
     "text": [
      "[3.60704666e-01 1.54415346e+00 2.76704059e+00 8.16535136e-01\n",
      " 2.72319697e-01 6.95010146e-01 8.24247369e-02 2.01541232e+00\n",
      " 4.88964923e-01 2.33151761e+00 4.99316650e-01 2.93206036e+00\n",
      " 1.63678058e+00 4.10880624e-01 1.98564849e+00 1.14640743e-01\n",
      " 2.41074536e+00 2.76277078e+00 1.16437541e+00 2.79066087e+00\n",
      " 5.99142278e-01 1.79674653e-02 1.31731753e+00 2.88622488e+00\n",
      " 5.11364711e-01 2.29302952e+00 7.97442143e-01 2.18234199e+00\n",
      " 1.35101620e+00 1.11966218e-01 4.16212704e-01 2.77617723e+00\n",
      " 4.15397815e-01 1.91974432e+00 1.17028044e-01 1.98092312e+00\n",
      " 4.88021257e-01 2.23387170e+00 2.24244852e+00 7.97213536e-01\n",
      " 2.41585592e+00 1.33783900e+00 1.49546504e+00 4.15264699e-01\n",
      " 1.63853799e+00 8.64142086e-01 1.15697870e+00 8.95836452e-01\n",
      " 5.69648945e-01 1.19346962e+00 8.06454164e-01 2.58572974e+00\n",
      " 6.81646789e-02 1.05308499e-01 2.54005447e+00 1.91439231e+00\n",
      " 1.42152293e+00 2.93917440e+00 2.93965607e+00 8.90288670e-01\n",
      " 1.12234130e+00 2.52062974e+00 2.77805448e+00 1.97025867e+00\n",
      " 3.02195069e-01 1.58181764e+00 4.34566292e-01 7.58234990e-01\n",
      " 1.25965759e+00 2.76788355e+00 2.65546305e+00 1.46798295e+00\n",
      " 2.95303853e+00 2.51438561e+00 1.88729223e+00 1.59646231e+00\n",
      " 1.40180995e+00 1.20718757e-01 1.75611487e+00 2.96688013e+00\n",
      " 2.36040765e+00 2.25440006e+00 2.93662778e+00 1.90084909e+00\n",
      " 1.00191559e+00 1.38169992e+00 1.76684914e-03 7.67007633e-01\n",
      " 2.15259592e+00 1.63911973e+00 9.87833591e-01 8.64373539e-01\n",
      " 1.51709295e+00 8.48653273e-01 2.13753229e+00 2.20556355e+00\n",
      " 2.28285453e+00 6.66461185e-02 1.31710645e+00 2.33828291e+00\n",
      " 2.53746748e+00 2.08157348e+00 2.69707663e+00 1.33485837e+00\n",
      " 1.48740229e+00 1.59556218e+00 2.34047209e-01 2.22578261e+00\n",
      " 7.93959528e-01 2.02650615e+00 1.76581800e+00 1.81851988e+00\n",
      " 9.75880676e-01 2.20594913e+00 2.71521366e+00 2.14315799e-01\n",
      " 1.71338811e+00 9.31495594e-01 2.27863167e+00 4.74303187e-02\n",
      " 1.41360703e+00 1.07798397e-03 7.05387622e-01 9.87993235e-01\n",
      " 4.46603023e-01 1.19754142e+00 2.08524116e+00 1.03751325e+00\n",
      " 1.19137023e+00 6.94926294e-01 1.37005714e+00 8.58150811e-01\n",
      " 1.21300938e-01 1.46603042e+00 7.02542772e-01 2.77211657e+00\n",
      " 2.27128976e+00 2.69719928e+00 4.67028171e-01 2.99156807e+00\n",
      " 1.29851090e+00 1.30775092e+00 1.21280410e+00 1.03327086e+00\n",
      " 1.54358556e+00 1.72122873e+00 2.96034817e+00 2.73875405e+00\n",
      " 2.69622698e+00 1.65373015e+00 1.64019737e+00 8.99575422e-01\n",
      " 2.89483748e-01 2.41983841e+00 1.91223302e+00 1.81570845e+00\n",
      " 7.59684613e-01 3.60872973e-01 1.50141244e+00 1.45271758e+00]\n",
      "[ 5.55521539  9.89094799 13.91109668  7.83505417  5.92490921  7.46271549\n",
      "  4.57851162 11.0609418   6.24796322 12.22483939  6.8227673  13.92796646\n",
      "  9.61838868  5.75266148 11.34571744  4.6788285  12.05102565 13.78466344\n",
      "  8.42623547 13.537569    6.91043814  5.32527941  9.05937773 13.59432974\n",
      "  6.13859655 12.78194841  7.28485807 12.07148299  9.06843137  5.47445094\n",
      "  6.64019585 13.3598393   5.76908817 10.69385289  5.32928487 11.5816098\n",
      "  6.7609008  10.96700014 11.68234565  6.84408491 12.78233248  9.02156574\n",
      "  8.85703368  6.66094096 10.52235154  7.87010562  8.38907354  6.85346846\n",
      "  7.24244714  8.4045686   7.0776216  13.57133732  5.07763932  5.33818777\n",
      " 12.17796677 10.78114106  9.26239917 13.6775455  14.09671186  7.81013162\n",
      "  8.36545238 12.9832468  13.10584797 10.66595118  6.01233625  9.58949209\n",
      "  5.67611255  7.43094614  9.41162775 13.08695776 12.70261152  8.79478351\n",
      " 13.94833958 13.11032708 10.9053185   9.8855313   8.53063637  6.19537614\n",
      " 10.08322428 14.31259524 12.87098047 11.20085576 13.57693633 10.03911536\n",
      "  8.38796917  8.94932355  5.44959905  8.28363102 11.43760706  9.75006698\n",
      "  8.26614535  7.79806174  8.59891128  7.88225421 11.59941532 12.1150055\n",
      " 11.88335682  3.89723637  8.53200487 11.97597948 12.75334082 10.60881684\n",
      " 13.12672252  8.85867663  9.71665436  9.23291903  6.03314855 11.50878064\n",
      "  7.38727244 11.16536291 10.03590323  9.77192328  7.66532909 11.0193634\n",
      " 13.33324041  5.81627894  9.48695996  7.88992704 12.23422986  4.69994749\n",
      "  9.11981669  4.65883063  6.72194573  7.17180347  6.28147777  8.83223453\n",
      " 11.00720027  8.20063234  8.77348481  7.00341494  9.12379316  7.43076081\n",
      "  5.19449051  9.24726469  7.48523251 12.97643189 12.47481018 12.80667615\n",
      "  6.09118913 13.79613665  8.39164303  8.79474665  8.33307917  7.58787689\n",
      "  9.11472212 10.14572996 13.09140764 13.15831413 13.18220655  9.79622241\n",
      "  9.3349221   7.98371282  5.40553035 11.86167293 10.87290754 10.2337538\n",
      "  8.00257618  5.79919667 10.24629633  9.59420048]\n"
     ]
    }
   ],
   "source": [
    "# Your code here \n",
    "train = pd.read_csv(\"train.csv\")\n",
    "x = train['x'].values\n",
    "y = train['y'].values\n",
    "\n",
    "test = pd.read_csv(\"test.csv\")\n",
    "#读取数据集\n",
    "#使用函数 pd.read_csv\n",
    "\n",
    "\n",
    "arrx = np.array(x)\n",
    "arry = np.array(y)\n",
    "print(arrx)\n",
    "print(arry)\n",
    "#print(matrix)\n",
    "#转化成numpy矩阵\n",
    "#使用函数 np.array\n",
    "\n"
   ]
  },
  {
   "cell_type": "markdown",
   "id": "1bccb84d",
   "metadata": {},
   "source": [
    "<span style=\"color:purple\">2) 假设模型为一元线性回归模型$\\hat{y}=wx+b$, 损失函数为$l(w,b)=\\frac{1}{2}\\sum_{i=1}^m(\\hat{y}^{(i)}-y^{(i)})^2$, 其中$\\hat{y}^{(i)}$表示第$i$个样本的预测值，$y^{(i)}$表示第$i$个样本的实际标签值, $m$为训练集中样本的个数。求出使得损失函数最小化的参数$w$和$b$。</span>"
   ]
  },
  {
   "cell_type": "markdown",
   "id": "fe1a56e3-b658-4070-b288-890994a5e490",
   "metadata": {},
   "source": [
    "方法① \n",
    "\n",
    "将$l(w,b)$分别对$w$和$b$求导，得到\n",
    "$$\n",
    "\\frac{\\partial l(w,b)}{\\partial w}=w\\sum_{i=1}^m x_i^2 -\\sum_{i=1}^m (y_i-b)x_i,\n",
    "$$\n",
    "$$\n",
    "\\frac{\\partial l(w,b)}{\\partial b}=mb -\\sum_{i=1}^m (y_i-wx_i),\n",
    "$$\n",
    "令上述两式为零即可得到$w$和$b$的解析解：\n",
    "$$\n",
    "w=\\frac{\\sum_{i=1}^m y_i (x_i-\\bar{x})}{\\sum_{i=1}^m x_i^2-\\frac{1}{m}(\\sum_{i=1}^m x_i)^2},\n",
    "$$\n",
    "$$\n",
    "b=\\frac{1}{m}\\sum_{i=1}^m(y_i-wx_i),\n",
    "$$\n",
    "其中$\\bar{x}=\\frac{1}{m}\\sum_{i=1}^m x_i$为$x$的均值。\n",
    "\n"
   ]
  },
  {
   "cell_type": "markdown",
   "id": "2bc4954b",
   "metadata": {},
   "source": []
  },
  {
   "cell_type": "markdown",
   "id": "2e7100b6",
   "metadata": {},
   "source": []
  },
  {
   "cell_type": "code",
   "execution_count": 10,
   "id": "210a8d62",
   "metadata": {},
   "outputs": [
    {
     "name": "stdout",
     "output_type": "stream",
     "text": [
      "斜率 (w): 3.041478870014286\n",
      "截距 (b): 4.906073659228101\n"
     ]
    }
   ],
   "source": [
    "# Your code here\n",
    "#使用函数 np.sum\n",
    "import numpy as np\n",
    "\n",
    "def linear_regression_params(x, y):\n",
    "    N = len(x)\n",
    "    \n",
    "    w_numerator = N * np.sum(x * y) - np.sum(x) * np.sum(y)\n",
    "    w_denominator = N * np.sum(x**2) - np.sum(x)**2\n",
    "    \n",
    "    w = w_numerator / w_denominator\n",
    "    \n",
    "    b = (np.sum(y-w*x)) / N\n",
    "    \n",
    "    return w, b\n",
    "w, b = linear_regression_params(arrx, arry)\n",
    "print(f\"斜率 (w): {w}\")\n",
    "print(f\"截距 (b): {b}\")\n",
    "\n",
    "\n",
    "\n",
    "\n"
   ]
  },
  {
   "cell_type": "markdown",
   "id": "1a04bc78",
   "metadata": {},
   "source": [
    "方法② 梯度下降法。手动实现梯度下降法(不使用机器学习框架，如PyTorch、TensorFlow等)来进行模型的训练。算法步骤如下：1.初始化模型参数$w$和$b$的值；2.在负梯度的方向上更新参数(批量梯度下降、小批量随机梯度下降或者随机梯度下降均可)，并不断迭代这一步骤，更新公式(以小批量随机梯度下降为例)可以写成：$$w\\gets w-\\frac{\\eta}{\\left|B\\right|}\\sum_{i\\in{B}}x^{(i)}(wx^{(i)}+b-y^{(i)}),$$ 和$$b\\gets b-\\frac{\\eta}{\\left|B\\right|}\\sum_{i\\in{B}}(wx^{(i)}+b-y^{(i)}),$$ 其中$\\eta$表示学习率,$B$表示每次迭代中随机抽样的小批量，$\\left|B\\right|$则表示$B$中的样本数量。3. 终止条件为迭代次数达到某一上限或者参数更新的幅度小于某个阈值。"
   ]
  },
  {
   "cell_type": "code",
   "execution_count": 13,
   "id": "bad649ed",
   "metadata": {},
   "outputs": [
    {
     "name": "stdout",
     "output_type": "stream",
     "text": [
      "Epoch1/0,Loss:2.3252,w:4.1722,b:2.1508\n",
      "Epoch2/1,Loss:1.4616,w:4.2090,b:2.6785\n",
      "Epoch3/2,Loss:1.0980,w:4.0407,b:3.0207\n",
      "Epoch4/3,Loss:0.8381,w:3.8891,b:3.3058\n",
      "Epoch5/4,Loss:0.6514,w:3.7657,b:3.5490\n",
      "Epoch6/5,Loss:0.5182,w:3.6783,b:3.7651\n",
      "Epoch7/6,Loss:0.4214,w:3.5520,b:3.9206\n",
      "Epoch8/7,Loss:0.3531,w:3.5132,b:4.0885\n",
      "Epoch9/8,Loss:0.3005,w:3.4345,b:4.2082\n",
      "Epoch10/9,Loss:0.2639,w:3.3762,b:4.3138\n",
      "Epoch11/10,Loss:0.2381,w:3.3312,b:4.4064\n",
      "Epoch12/11,Loss:0.2190,w:3.2866,b:4.4789\n",
      "Epoch13/12,Loss:0.2064,w:3.2594,b:4.5490\n",
      "Epoch14/13,Loss:0.1948,w:3.2132,b:4.5951\n",
      "Epoch15/14,Loss:0.1887,w:3.1698,b:4.6324\n",
      "Epoch16/15,Loss:0.1835,w:3.1482,b:4.6724\n",
      "Epoch17/16,Loss:0.1794,w:3.1574,b:4.7220\n",
      "Epoch18/17,Loss:0.1759,w:3.1305,b:4.7454\n",
      "Epoch19/18,Loss:0.1743,w:3.1227,b:4.7714\n",
      "Epoch20/19,Loss:0.1760,w:3.0785,b:4.7745\n",
      "Epoch21/20,Loss:0.1716,w:3.0954,b:4.8067\n",
      "Epoch22/21,Loss:0.1709,w:3.0885,b:4.8216\n",
      "Epoch23/22,Loss:0.1709,w:3.0909,b:4.8395\n",
      "Epoch24/23,Loss:0.1701,w:3.0724,b:4.8429\n",
      "Epoch25/24,Loss:0.1701,w:3.0786,b:4.8591\n",
      "Epoch26/25,Loss:0.1704,w:3.0513,b:4.8552\n",
      "Epoch27/26,Loss:0.1694,w:3.0621,b:4.8709\n",
      "Epoch28/27,Loss:0.1717,w:3.0331,b:4.8667\n",
      "Epoch29/28,Loss:0.1692,w:3.0560,b:4.8849\n",
      "Epoch30/29,Loss:0.1692,w:3.0489,b:4.8857\n",
      "Epoch31/30,Loss:0.1694,w:3.0428,b:4.8843\n",
      "Epoch32/31,Loss:0.1709,w:3.0298,b:4.8817\n",
      "Epoch33/32,Loss:0.1696,w:3.0358,b:4.8902\n",
      "Epoch34/33,Loss:0.1694,w:3.0554,b:4.9023\n",
      "Epoch35/34,Loss:0.1698,w:3.0580,b:4.9057\n",
      "Epoch36/35,Loss:0.1714,w:3.0672,b:4.9110\n",
      "Epoch37/36,Loss:0.1704,w:3.0616,b:4.9083\n",
      "Epoch38/37,Loss:0.1693,w:3.0515,b:4.9045\n",
      "Epoch39/38,Loss:0.1690,w:3.0418,b:4.9007\n",
      "Epoch40/39,Loss:0.1715,w:3.0659,b:4.9144\n",
      "Epoch41/40,Loss:0.1691,w:3.0477,b:4.9039\n",
      "Epoch42/41,Loss:0.1719,w:3.0679,b:4.9159\n",
      "Epoch43/42,Loss:0.1691,w:3.0395,b:4.9021\n",
      "Epoch44/43,Loss:0.1690,w:3.0433,b:4.9048\n",
      "Epoch45/44,Loss:0.1691,w:3.0384,b:4.9037\n",
      "Epoch46/45,Loss:0.1693,w:3.0336,b:4.9013\n",
      "Epoch47/46,Loss:0.1704,w:3.0242,b:4.8982\n",
      "Epoch48/47,Loss:0.1715,w:3.0178,b:4.8956\n",
      "Epoch49/48,Loss:0.1693,w:3.0338,b:4.9033\n",
      "Epoch50/49,Loss:0.1692,w:3.0355,b:4.9028\n",
      "Epoch51/50,Loss:0.1693,w:3.0350,b:4.9015\n",
      "Epoch52/51,Loss:0.1691,w:3.0442,b:4.9074\n",
      "Epoch53/52,Loss:0.1697,w:3.0300,b:4.8991\n",
      "Epoch54/53,Loss:0.1691,w:3.0368,b:4.9027\n",
      "Epoch55/54,Loss:0.1693,w:3.0495,b:4.9093\n",
      "Epoch56/55,Loss:0.1701,w:3.0259,b:4.8989\n",
      "Epoch57/56,Loss:0.1692,w:3.0344,b:4.9032\n",
      "Epoch58/57,Loss:0.1695,w:3.0303,b:4.9018\n",
      "Epoch59/58,Loss:0.1691,w:3.0374,b:4.9048\n",
      "Epoch60/59,Loss:0.1711,w:3.0207,b:4.8947\n",
      "Epoch61/60,Loss:0.1691,w:3.0448,b:4.9079\n",
      "Epoch62/61,Loss:0.1692,w:3.0368,b:4.9021\n",
      "Epoch63/62,Loss:0.1691,w:3.0454,b:4.9071\n",
      "Epoch64/63,Loss:0.1692,w:3.0477,b:4.9079\n",
      "Epoch65/64,Loss:0.1692,w:3.0490,b:4.9085\n",
      "Epoch66/65,Loss:0.1690,w:3.0420,b:4.9055\n",
      "Epoch67/66,Loss:0.1691,w:3.0442,b:4.9071\n",
      "Epoch68/67,Loss:0.1691,w:3.0375,b:4.9034\n",
      "Epoch69/68,Loss:0.1694,w:3.0328,b:4.9010\n",
      "Epoch70/69,Loss:0.1690,w:3.0422,b:4.9071\n",
      "Epoch71/70,Loss:0.1700,w:3.0560,b:4.9136\n",
      "Epoch72/71,Loss:0.1695,w:3.0524,b:4.9102\n",
      "Epoch73/72,Loss:0.1690,w:3.0410,b:4.9044\n",
      "Epoch74/73,Loss:0.1694,w:3.0512,b:4.9103\n",
      "Epoch75/74,Loss:0.1693,w:3.0495,b:4.9098\n",
      "Epoch76/75,Loss:0.1693,w:3.0491,b:4.9087\n",
      "Epoch77/76,Loss:0.1699,w:3.0289,b:4.8981\n",
      "Epoch78/77,Loss:0.1697,w:3.0299,b:4.8991\n",
      "Epoch79/78,Loss:0.1694,w:3.0497,b:4.9108\n",
      "Epoch80/79,Loss:0.1690,w:3.0427,b:4.9074\n",
      "Epoch81/80,Loss:0.1697,w:3.0528,b:4.9126\n",
      "Epoch82/81,Loss:0.1690,w:3.0427,b:4.9071\n",
      "Epoch83/82,Loss:0.1691,w:3.0378,b:4.9053\n",
      "Epoch84/83,Loss:0.1691,w:3.0360,b:4.9044\n",
      "Epoch85/84,Loss:0.1697,w:3.0522,b:4.9136\n",
      "Epoch86/85,Loss:0.1704,w:3.0566,b:4.9182\n",
      "Epoch87/86,Loss:0.1694,w:3.0317,b:4.9036\n",
      "Epoch88/87,Loss:0.1706,w:3.0589,b:4.9164\n",
      "Epoch89/88,Loss:0.1699,w:3.0551,b:4.9135\n",
      "Epoch90/89,Loss:0.1690,w:3.0408,b:4.9038\n",
      "Epoch91/90,Loss:0.1694,w:3.0333,b:4.8992\n",
      "Epoch92/91,Loss:0.1690,w:3.0443,b:4.9060\n",
      "Epoch93/92,Loss:0.1704,w:3.0591,b:4.9134\n",
      "Epoch94/93,Loss:0.1693,w:3.0350,b:4.9009\n",
      "Epoch95/94,Loss:0.1702,w:3.0579,b:4.9138\n",
      "Epoch96/95,Loss:0.1702,w:3.0257,b:4.8972\n",
      "Epoch97/96,Loss:0.1690,w:3.0443,b:4.9063\n",
      "Epoch98/97,Loss:0.1705,w:3.0602,b:4.9132\n",
      "Epoch99/98,Loss:0.1690,w:3.0418,b:4.9039\n",
      "Epoch100/99,Loss:0.1694,w:3.0527,b:4.9078\n",
      "w:3.0526592845189646,b:4.907753767159881\n"
     ]
    }
   ],
   "source": [
    "# Your code here\n",
    "#使用 for循环，函数 np.sum等\n",
    "def mini_step_gradient_descent(x,y,batch_size,learning_rate,epochs):\n",
    "    w = np.random.randn()\n",
    "    b = np.random.randn()\n",
    "    N = len(x)\n",
    "    for epoch in range(epochs):\n",
    "        indices = np.random.permutation(N)\n",
    "        x_shuffled = x[indices]\n",
    "        y_shuffled = y[indices]\n",
    "        for i in range(0,N,batch_size):\n",
    "            x_batch = x_shuffled[i:i+batch_size]\n",
    "            y_batch = y_shuffled[i:i+batch_size]\n",
    "            m = len(x_batch)\n",
    "            y_pred = w*x_batch + b\n",
    "            dw = (-1/m) * np.sum((y_batch - y_pred) * x_batch)\n",
    "            db = (-1/m) * np.sum(y_batch - y_pred)\n",
    "            w = w - learning_rate * dw\n",
    "            b = b - learning_rate * db\n",
    "        loss = np.mean((y - (w * x + b))**2)\n",
    "        print(f'Epoch{epoch+1}/{epoch},Loss:{loss:.4f},w:{w:.4f},b:{b:.4f}')\n",
    "    return w,b\n",
    "\n",
    "batch_size = 2\n",
    "learning_rate = 0.01\n",
    "epochs = 100\n",
    "w,b = mini_step_gradient_descent(arrx,arry,batch_size,learning_rate,epochs)\n",
    "print(f'w:{w},b:{b}')\n",
    "        \n"
   ]
  },
  {
   "cell_type": "markdown",
   "id": "844f2a87",
   "metadata": {},
   "source": [
    "方法③ \n",
    "\n",
    "用矩阵表示，假设数据集有$m$个样本，特征有$n$维$。X=\\left[ \\begin{matrix} x_{11} & x_{12} & \\cdots & x_{1n} & 1 \\\\\n",
    "                         x_{21} & x_{22} & \\cdots & x_{2n} & 1 \\\\\n",
    "                         \\vdots & \\vdots &      & \\vdots & \\vdots \\\\\n",
    "                         x_{m1} & x_{m2} & \\cdots & x_{mn} & 1 \\end{matrix} \\right]$,\n",
    "        实际标签$Y=\\left[ \\begin{matrix} y_{1} \\\\\n",
    "                         y_{2} \\\\\n",
    "                         \\vdots \\\\\n",
    "                         y_{m}\\end{matrix} \\right]$,\n",
    "        参数$B=\\left[ \\begin{matrix} w_{1} \\\\\n",
    "                         w_{2} \\\\\n",
    "                         \\vdots \\\\\n",
    "                         w_{n} \\\\\n",
    "                         b\\end{matrix} \\right]$，则解析解为$B^*=(X^T X)^{-1}X^T Y$。推导过程可参考[这篇文章](https://zhuanlan.zhihu.com/p/74157986)。"
   ]
  },
  {
   "cell_type": "markdown",
   "id": "dc173478",
   "metadata": {},
   "source": []
  },
  {
   "cell_type": "code",
   "execution_count": 17,
   "id": "7f634cfa",
   "metadata": {},
   "outputs": [
    {
     "name": "stdout",
     "output_type": "stream",
     "text": [
      "w:3.0414788700142843,b:4.906073659228102\n"
     ]
    }
   ],
   "source": [
    "# Your code here\n",
    "#使用函数 np.c_ np.ones np.linalg.inv\n",
    "def linear_regression_matrix(x,y):\n",
    "    X = np.c_[np.ones(x.shape[0]),x]\n",
    "    theta = np.linalg.inv(X.T@X)@X.T@y\n",
    "    b = theta[0]\n",
    "    w = theta[1]\n",
    "    return w,b\n",
    "w,b = linear_regression_matrix(arrx,arry)\n",
    "print(f'w:{w},b:{b}')\n",
    "\n"
   ]
  },
  {
   "cell_type": "markdown",
   "id": "eb16c177",
   "metadata": {},
   "source": [
    "<span style=\"color:purple\">3) 使用求解出来的线性回归模型对测试数据集'test.csv'进行预测，输出可视化结果（比如用seaborn或者matplotlib等可视化库来画出测试数据的散点图以及训练好的模型函数图像）。</span>"
   ]
  },
  {
   "cell_type": "code",
   "execution_count": 20,
   "id": "b19a5413",
   "metadata": {},
   "outputs": [
    {
     "data": {
      "image/png": "[encoded data removed]",
      "text/plain": [
       "<Figure size 1000x600 with 1 Axes>"
      ]
     },
     "metadata": {},
     "output_type": "display_data"
    }
   ],
   "source": [
    "# Your code here\n",
    "#A=np.array([[1,2,3],[4,5,6],[7,8,9]])\n",
    "#x = A[0, :] #从一个矩阵中提取出一行作为一个向量\n",
    "#y1 = np.array([2, 3, 5])\n",
    "#plt.plot(x, y1) #画出折线图\n",
    "#y2 = np.array([2.5, 2.8, 5.3])\n",
    "#plt.plot(x, y2, '.') #画出散点图\n",
    "#plt.show()\n",
    "\n",
    "test_x = test['x'].values\n",
    "test_y = test['y'].values\n",
    "w,b=3.0414788700142843,4.906073659228102\n",
    "y_pred = w*test_x + b\n",
    "plt.figure(figsize = (10,6))\n",
    "plt.scatter(test_x,test_y,color='blue',label='Test Data')\n",
    "plt.plot(test_x,y_pred,color='red',label=f'regressionModel: y = {w:.2f}x + {b:.2f}')\n",
    "plt.title('Linear Regression Model vs Test Data')\n",
    "plt.xlabel('x')\n",
    "plt.ylabel('y')\n",
    "plt.show()\n"
   ]
  },
  {
   "cell_type": "markdown",
   "id": "f227579c",
   "metadata": {},
   "source": [
    "<span style=\"color:purple\">4) 在训练数据集'train2.csv'上求一个三元线性回归模型$\\hat{y}=w_0 + w_1 x_1 + w_2 x_2 + w_3 x_3$的使得损失函数$l(w_0,w_1,w_2,w_3)=\\frac{1}{2}\\sum_{i=1}^m(\\hat{y}^{(i)}-y^{(i)})^2$最小的参数$w_0,w_1,w_2$以及$w_3$。并在测试数据集'test2.csv'上进行预测，输出预测结果的均方误差$MSE(\\hat{y},y)=\\frac{1}{n}\\sum^n_{i=1}(y^{(i)}-\\hat{y}^{(i)})^2$, $n$为测试集中样本个数。</span>"
   ]
  },
  {
   "cell_type": "markdown",
   "id": "2a1f6178",
   "metadata": {},
   "source": [
    "方法① 同2)中的方法③。"
   ]
  },
  {
   "cell_type": "markdown",
   "id": "f4ea8a93",
   "metadata": {},
   "source": [
    "方法② 类似2)中的方法②。算法步骤如下：1.初始化模型参数$w_0,w_1,w_2,w_3$的值；2.在负梯度的方向上更新参数(批量梯度下降、小批量随机梯度下降或者随机梯度下降均可)，并不断迭代这一步骤，更新公式(以小批量随机梯度下降为例)可以写成：$$w_j\\gets w_j-\\frac{\\eta}{\\left|B\\right|}\\sum_{i\\in{B}}x_j^{(i)}(w_0 + w_1 x_1^{(i)}+w_2 x_2^{(i)}+w_3 x_3^{(i)}-y^{(i)}), j=0,1,2,3,$$ 其中$x_0^{(i)}=1$， 其中$\\eta$表示学习率,$B$表示每次迭代中随机抽样的小批量，$\\left|B\\right|$则表示$B$中的样本数量。3. 终止条件为迭代次数达到某一上限或者参数更新的幅度小于某个阈值。"
   ]
  },
  {
   "cell_type": "code",
   "execution_count": 25,
   "id": "115f58e2",
   "metadata": {},
   "outputs": [
    {
     "name": "stdout",
     "output_type": "stream",
     "text": [
      "Epoch 0, MSE: 5.55318987782397\n",
      "Epoch 100, MSE: 0.16328725647091194\n",
      "Epoch 200, MSE: 0.16072802793595917\n",
      "Epoch 300, MSE: 0.16189679442035548\n"
     ]
    },
    {
     "data": {
      "image/png": "[encoded data removed]",
      "text/plain": [
       "<Figure size 640x480 with 1 Axes>"
      ]
     },
     "metadata": {},
     "output_type": "display_data"
    },
    {
     "name": "stdout",
     "output_type": "stream",
     "text": [
      "w:[1.01564178 2.00623567 3.01718614],b:5.944917071871985\n",
      "\n",
      "w:(1.0072300078584702, 2.003393711530748, 3.0102562412206337),b:5.9425439272594645\n"
     ]
    },
    {
     "data": {
      "image/png": "[encoded data removed]",
      "text/plain": [
       "<Figure size 640x480 with 1 Axes>"
      ]
     },
     "metadata": {},
     "output_type": "display_data"
    }
   ],
   "source": [
    "# Your code here\n",
    "train_data = pd.read_csv('train2.csv')\n",
    "x_train = train_data[['x1','x2','x3']].values\n",
    "y_train = train_data['y'].values\n",
    "\n",
    "test_data = pd.read_csv('test2.csv')\n",
    "x_test = test_data[['x1','x2','x3']].values\n",
    "y_test = test_data['y'].values\n",
    "\n",
    "batch_size = 10\n",
    "learning_rate = 0.01\n",
    "epochs = 300\n",
    "n=len(x_train)\n",
    "\n",
    "np.random.seed(23)\n",
    "w = np.random.randn(3)\n",
    "b = np.random.randn()\n",
    "\n",
    "def predict(X,w,b):\n",
    "    return np.dot(X,w)+b\n",
    "\n",
    "def MSE(y,y_pred):\n",
    "    return np.mean((y-y_pred)**2)\n",
    "\n",
    "for epoch in range(epochs+1):\n",
    "    shuffled_indices = np.random.permutation(len(x_train))\n",
    "    x_train_shuffled = x_train[shuffled_indices]\n",
    "    y_train_shuffled = y_train[shuffled_indices]\n",
    "    for i in range(0,len(x_train),batch_size):\n",
    "        x_batch = x_train_shuffled[i:i+batch_size]\n",
    "        y_batch = y_train_shuffled[i:i+batch_size]\n",
    "        y_pred_batch = predict(x_batch,w,b)\n",
    "        dw = -(2/batch_size) * np.dot(x_batch.T,(y_batch-y_pred_batch))\n",
    "        db = -(2/batch_size) * np.sum(y_batch - y_pred_batch)\n",
    "        w = w - learning_rate * dw\n",
    "        b = b - learning_rate * db\n",
    "    if epoch % 100 == 0:\n",
    "        y_pred_train = predict(x_train,w,b)\n",
    "        loss = MSE(y_train,y_pred_train)\n",
    "        print(f\"Epoch {epoch}, MSE: {loss}\")\n",
    "y_pred_test = predict(x_test, w,b)\n",
    "\n",
    "plt.scatter(range(len(y_test)),y_test,color = 'blue',label = 'Actually')\n",
    "plt.scatter(range(len(y_pred_test)),y_pred_test,color = 'red',label = 'Predicted')\n",
    "plt.title('Actually vs Predicted_gradient...')\n",
    "plt.xlabel('x')\n",
    "plt.ylabel('y')\n",
    "plt.show()\n",
    "print(f'w:{w},b:{b}')\n",
    "print()\n",
    "\n",
    "def threee_linear_regression_matrix(x,y):\n",
    "    X = np.c_[np.ones(x.shape[0]),x]\n",
    "    theta = np.linalg.inv(X.T@X)@X.T@y\n",
    "    b = theta[0]\n",
    "    w_1,w_2,w_3 = theta[1:]\n",
    "    return w_1,w_2,w_3,b\n",
    "w_1,w_2,w_3,b = threee_linear_regression_matrix(x_train,y_train)\n",
    "w = w_1,w_2,w_3\n",
    "print(f'w:{w},b:{b}')\n",
    "\n",
    "y_pred_test_matrix = predict(x_test, w,b)\n",
    "\n",
    "plt.scatter(range(len(y_test)),y_test,color = 'green',label = 'Actually')\n",
    "plt.scatter(range(len(y_pred_test)),y_pred_test_matrix,color = 'yellow',label = 'Predicted')\n",
    "plt.title('Actually vs Predicted_Matrix...')\n",
    "plt.xlabel('x')\n",
    "plt.ylabel('y')\n",
    "plt.show()"
   ]
  }
 ],
 "metadata": {
  "kernelspec": {
   "display_name": "Python 3 (ipykernel)",
   "language": "python",
   "name": "python3"
  },
  "language_info": {
   "codemirror_mode": {
    "name": "ipython",
    "version": 3
   },
   "file_extension": ".py",
   "mimetype": "text/x-python",
   "name": "python",
   "nbconvert_exporter": "python",
   "pygments_lexer": "ipython3",
   "version": "3.12.4"
  }
 },
 "nbformat": 4,
 "nbformat_minor": 5
}
