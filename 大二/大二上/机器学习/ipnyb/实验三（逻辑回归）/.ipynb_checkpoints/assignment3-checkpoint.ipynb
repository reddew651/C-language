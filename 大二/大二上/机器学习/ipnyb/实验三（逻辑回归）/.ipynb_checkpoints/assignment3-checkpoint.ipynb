{
 "cells": [
  {
   "cell_type": "markdown",
   "id": "498d70fa",
   "metadata": {},
   "source": [
    "**<font color = black size=6>实验三:逻辑回归</font>**"
   ]
  },
  {
   "cell_type": "markdown",
   "id": "fa5c5483",
   "metadata": {},
   "source": [
    "**<font color = blue size=4>第一部分:函数介绍</font>**"
   ]
  },
  {
   "cell_type": "markdown",
   "id": "869f21ce",
   "metadata": {},
   "source": [
    "<span style=\"color:purple\">由于机器学习所使用的数据集并不一定能够直接进行使用，如经常可能出现缺失值或者异常值（如异常0或者异常大的数据），又或者是数据类型不适合直接应用于模型训练等，所以数据预处理同样是机器学习过程中十分重要的一个部分。  \n",
    "    本次实验的数据预处理需要用的操作包括判断数据是否有缺失值以及异常值、缺失值替换操作、并将部分特征值类型转换为适合模型训练的类型。在进行逻辑回归实验之前，首先介绍下上述操作所用到的python语法。</span>"
   ]
  },
  {
   "cell_type": "markdown",
   "id": "3957a94a",
   "metadata": {},
   "source": [
    "<span style=\"color:purple\">1) 判断一列中是否有缺失值</span>"
   ]
  },
  {
   "cell_type": "code",
   "execution_count": 1,
   "id": "5472add3",
   "metadata": {
    "scrolled": true
   },
   "outputs": [],
   "source": [
    "import pandas as pd\n",
    "import numpy as np\n",
    "import matplotlib.pyplot as plt\n",
    "import math\n",
    "import matplotlib as mpl\n",
    "# ignore warnings\n",
    "import warnings\n",
    "warnings.filterwarnings('ignore')"
   ]
  },
  {
   "cell_type": "code",
   "execution_count": 2,
   "id": "dc6837f2",
   "metadata": {},
   "outputs": [
    {
     "name": "stdout",
     "output_type": "stream",
     "text": [
      "height    2\n",
      "weight    2\n",
      "sex       0\n",
      "dtype: int64\n",
      "   height  weight     sex\n",
      "0   170.0    54.0    Male\n",
      "1   180.0     NaN    Male\n",
      "2   164.0    48.0  Female\n",
      "3     NaN    66.0    Male\n",
      "4   176.0     NaN  Female\n",
      "5   162.0    59.0    Male\n",
      "6   154.0    46.0    Male\n",
      "7   155.0    58.0  Female\n",
      "8   165.0     0.0  Female\n",
      "9     NaN    50.0  Female\n"
     ]
    }
   ],
   "source": [
    "#通过pandas将csv文件转换为dataframe格式后进行操作\n",
    "train1_frame = pd.read_csv('introduction.csv')\n",
    "#判断每一列是否有空值并返回每列空值的数量\n",
    "print(train1_frame.isnull().sum())\n",
    "print(train1_frame)"
   ]
  },
  {
   "cell_type": "markdown",
   "id": "75d469ff",
   "metadata": {},
   "source": [
    "<span style=\"color:purple\">2) 对每一列的缺失值和异常值进行替换操作</span>"
   ]
  },
  {
   "cell_type": "code",
   "execution_count": 3,
   "id": "891fed76",
   "metadata": {},
   "outputs": [
    {
     "name": "stdout",
     "output_type": "stream",
     "text": [
      "   height  weight     sex\n",
      "0   170.0    54.0    Male\n",
      "1   180.0     NaN    Male\n",
      "2   164.0    48.0  Female\n",
      "3     NaN    66.0    Male\n",
      "4   176.0     NaN  Female\n",
      "5   162.0    59.0    Male\n",
      "6   154.0    46.0    Male\n",
      "7   155.0    58.0  Female\n",
      "8   165.0     NaN  Female\n",
      "9     NaN    50.0  Female\n"
     ]
    }
   ],
   "source": [
    "#将0替换为空值，之后将空值替换为修正的值(例如：平均值、中数、众数等)\n",
    "#利用pandas中的replace函数将某一列的指定值替换为另一个值\n",
    "train1_frame[['height','weight']]=\\\n",
    "train1_frame[['height','weight']].replace(0,np.nan)\n",
    "print(train1_frame)"
   ]
  },
  {
   "cell_type": "code",
   "execution_count": 4,
   "id": "1aec2a23",
   "metadata": {},
   "outputs": [
    {
     "name": "stdout",
     "output_type": "stream",
     "text": [
      "   height  weight     sex\n",
      "0   170.0    54.0    Male\n",
      "1   180.0     NaN    Male\n",
      "2   164.0    48.0  Female\n",
      "3   165.0    66.0    Male\n",
      "4   176.0     NaN  Female\n",
      "5   162.0    59.0    Male\n",
      "6   154.0    46.0    Male\n",
      "7   155.0    58.0  Female\n",
      "8   165.0     NaN  Female\n",
      "9   166.5    50.0  Female\n"
     ]
    }
   ],
   "source": [
    "#先对height列进行分离，之后将temp按照性别进行分类，之后使用mean函数分别计算male和female非空数据的height的平均值\n",
    "temp=train1_frame[train1_frame['height'].notnull()]\n",
    "temp=temp[['height','sex']].groupby(['sex'])[['height']].mean().reset_index()\n",
    "\n",
    "#使用dataframe的loc函数将指定条件的height列和sex列筛选出来进行值替换操作\n",
    "train1_frame.loc[(train1_frame['sex']=='Male')&(train1_frame['height'].isnull()),'height']=temp['height'][0]\n",
    "train1_frame.loc[(train1_frame['sex']=='Female')&(train1_frame['height'].isnull()),'height']=temp['height'][1]\n",
    "print(train1_frame)"
   ]
  },
  {
   "cell_type": "code",
   "execution_count": 5,
   "id": "4f394062",
   "metadata": {},
   "outputs": [
    {
     "name": "stdout",
     "output_type": "stream",
     "text": [
      "   height  weight     sex\n",
      "0   170.0    54.0    Male\n",
      "1   180.0    50.0    Male\n",
      "2   164.0    48.0  Female\n",
      "3   165.0    66.0    Male\n",
      "4   176.0    56.5  Female\n",
      "5   162.0    59.0    Male\n",
      "6   154.0    46.0    Male\n",
      "7   155.0    58.0  Female\n",
      "8   165.0    56.5  Female\n",
      "9   166.5    50.0  Female\n"
     ]
    }
   ],
   "source": [
    "#再对weight列进行分离，之后同样将temp按照性别进行分类，之后使用median函数分别计算male和female非空数据的height的中位数\n",
    "temp=train1_frame[train1_frame['weight'].notnull()]\n",
    "temp=temp[['weight','sex']].groupby(['sex'])[['weight']].median().reset_index()\n",
    "\n",
    "#使用dataframe的loc函数将指定条件的height列和sex列筛选出来进行值替换操作\n",
    "train1_frame.loc[(train1_frame['sex']=='Male')&(train1_frame['weight'].isnull()),'weight']=temp['weight'][0]\n",
    "train1_frame.loc[(train1_frame['sex']=='Female')&(train1_frame['weight'].isnull()),'weight']=temp['weight'][1]\n",
    "print(train1_frame)"
   ]
  },
  {
   "cell_type": "markdown",
   "id": "d0ea36f6",
   "metadata": {},
   "source": [
    "<span style=\"color:purple\">3) 将结果值从字符串变成容易操作的整数类型</span>"
   ]
  },
  {
   "cell_type": "code",
   "execution_count": 6,
   "id": "8341000e",
   "metadata": {},
   "outputs": [
    {
     "name": "stdout",
     "output_type": "stream",
     "text": [
      "   height  weight     sex\n",
      "0   170.0    54.0    Male\n",
      "1   180.0    50.0    Male\n",
      "2   164.0    48.0  Female\n",
      "3   165.0    66.0    Male\n",
      "4   176.0    56.5  Female\n",
      "5   162.0    59.0    Male\n",
      "6   154.0    46.0    Male\n",
      "7   155.0    58.0  Female\n",
      "8   165.0    56.5  Female\n",
      "9   166.5    50.0  Female\n",
      "   height  weight  sex\n",
      "0   170.0    54.0    0\n",
      "1   180.0    50.0    0\n",
      "2   164.0    48.0    1\n",
      "3   165.0    66.0    0\n",
      "4   176.0    56.5    1\n",
      "5   162.0    59.0    0\n",
      "6   154.0    46.0    0\n",
      "7   155.0    58.0    1\n",
      "8   165.0    56.5    1\n",
      "9   166.5    50.0    1\n"
     ]
    }
   ],
   "source": [
    "print(train1_frame)\n",
    "train1_frame['sex'] = np.where(train1_frame['sex'] == \"Male\", 0, 1)\n",
    "print(train1_frame)"
   ]
  },
  {
   "cell_type": "markdown",
   "id": "ac00368d",
   "metadata": {},
   "source": [
    "<span style=\"color:purple\">4) 当坐标为两维时的绘图</span>"
   ]
  },
  {
   "cell_type": "code",
   "execution_count": 7,
   "id": "f4314e6f",
   "metadata": {},
   "outputs": [
    {
     "data": {
      "image/png": "[encoded data removed]",
      "text/plain": [
       "<Figure size 1000x500 with 1 Axes>"
      ]
     },
     "metadata": {},
     "output_type": "display_data"
    }
   ],
   "source": [
    "#确定图画边界和大小\n",
    "plt.figure(figsize=(10,5))\n",
    "x_min, x_max = 0,10\n",
    "y_min, y_max = 0,5\n",
    "#使用numpy中的meshgrid生成网格矩阵，方便进行之后的描点\n",
    "boundary_x, boundary_y = np.meshgrid(np.arange(x_min, x_max, 0.01),np.arange(y_min, y_max, 0.01))\n",
    "grid = np.c_[boundary_x.ravel(), boundary_y.ravel()]\n",
    "#加入偏置对应的一列\n",
    "e=np.ones((len(grid),1))\n",
    "grid=np.c_[e,grid]\n",
    "#假定下列的模型参数\n",
    "w=np.array([[0],[3],[-6]])\n",
    "#计算出网格点中每个点对应的逻辑回归预测值\n",
    "z=grid.dot(w)\n",
    "for i in range(len(z)):\n",
    "    z[i][0]=(1/(1+np.exp(-z[i])))\n",
    "    if(z[i][0]<0.5):z[i][0]=0\n",
    "    else:z[i][0]=1\n",
    "#转换shape以作出决策边界\n",
    "z=z.reshape(boundary_x.shape)\n",
    "plt.contourf(boundary_x, boundary_y, z, cmap=plt.cm.Spectral, zorder=1)\n",
    "plt.show()"
   ]
  },
  {
   "cell_type": "code",
   "execution_count": 8,
   "id": "8c07701a",
   "metadata": {},
   "outputs": [
    {
     "data": {
      "image/png": "[encoded data removed]",
      "text/plain": [
       "<Figure size 640x480 with 1 Axes>"
      ]
     },
     "metadata": {},
     "output_type": "display_data"
    }
   ],
   "source": [
    "\"\"\"\n",
    "可使用plt.scatter来绘制出测试集的每个样本点，并设置指定颜色来区分预测正确和错误的样本\n",
    "plt.scatter(x,y,c=\"color\")，x、y为坐标值，c为指定颜色\n",
    "\"\"\"\n",
    "class_1=train1_frame[train1_frame['sex']==1]\n",
    "class_0=train1_frame[train1_frame['sex']==0]\n",
    "plt.scatter(class_1['height'],class_1['weight'],c='blue')\n",
    "plt.scatter(class_0['height'],class_0['weight'],c='red')\n",
    "plt.show()"
   ]
  },
  {
   "cell_type": "markdown",
   "id": "657beb0c",
   "metadata": {},
   "source": [
    "**<font color = blue size=4>第二部分:逻辑回归实验一</font>**"
   ]
  },
  {
   "cell_type": "code",
   "execution_count": 9,
   "id": "226badd7",
   "metadata": {},
   "outputs": [],
   "source": [
    "import pandas as pd\n",
    "import numpy as np\n",
    "import matplotlib.pyplot as plt\n",
    "import math\n",
    "import matplotlib as mpl"
   ]
  },
  {
   "cell_type": "markdown",
   "id": "7a0bdb6f",
   "metadata": {},
   "source": [
    "<span style=\"color:purple\">Iris数据集是常用的分类实验数据集,也称鸢尾花卉数据集，是一类多重变量分析的数据集。我们实验选取数据集的部分内容，包含训练集中的80个数据样本和测试集的20个样本，分为2类，每个数据包含2个属性。可通过花萼长度(x1)，花萼宽度(x2)2个属性预测鸢尾花卉属于（Setosa，Versicolour）二个种类中的哪一类。</span>"
   ]
  },
  {
   "cell_type": "markdown",
   "id": "70d2906a",
   "metadata": {},
   "source": [
    "<span style=\"color:purple\">1) 使用pandas库将训练数据集'flower_train.csv'与测试数据集'flower_test.csv'载入到Dataframe对象中，并判断训练集中每列数据是否有缺失值或者不合理的数值，如果有，请在不删除数据的前提下进行处理，而测试集为完好的数据集，不需要进行操作。由于花卉类型(type)为字符串类型，请将花卉类型转换为适合模型训练的类型</span>"
   ]
  },
  {
   "cell_type": "code",
   "execution_count": 10,
   "id": "f59640f4",
   "metadata": {},
   "outputs": [
    {
     "name": "stdout",
     "output_type": "stream",
     "text": [
      "x1      5\n",
      "x2      6\n",
      "type    0\n",
      "dtype: int64\n",
      "     x1   x2             type\n",
      "0   NaN  3.5      Iris-setosa\n",
      "1   4.9  3.0      Iris-setosa\n",
      "2   4.7  3.2      Iris-setosa\n",
      "3   4.6  3.1      Iris-setosa\n",
      "4   5.0  3.6      Iris-setosa\n",
      "..  ...  ...              ...\n",
      "75  5.7  NaN  Iris-versicolor\n",
      "76  5.7  2.9  Iris-versicolor\n",
      "77  6.2  2.9  Iris-versicolor\n",
      "78  5.1  NaN  Iris-versicolor\n",
      "79  5.7  2.8  Iris-versicolor\n",
      "\n",
      "[80 rows x 3 columns]\n",
      "          x1   x2             type\n",
      "0   5.032432  3.5      Iris-setosa\n",
      "1   4.900000  3.0      Iris-setosa\n",
      "2   4.700000  3.2      Iris-setosa\n",
      "3   4.600000  3.1      Iris-setosa\n",
      "4   5.000000  3.6      Iris-setosa\n",
      "..       ...  ...              ...\n",
      "75  5.700000  NaN  Iris-versicolor\n",
      "76  5.700000  2.9  Iris-versicolor\n",
      "77  6.200000  2.9  Iris-versicolor\n",
      "78  5.100000  NaN  Iris-versicolor\n",
      "79  5.700000  2.8  Iris-versicolor\n",
      "\n",
      "[80 rows x 3 columns]\n",
      "          x1        x2             type\n",
      "0   5.032432  3.500000      Iris-setosa\n",
      "1   4.900000  3.000000      Iris-setosa\n",
      "2   4.700000  3.200000      Iris-setosa\n",
      "3   4.600000  3.100000      Iris-setosa\n",
      "4   5.000000  3.600000      Iris-setosa\n",
      "..       ...       ...              ...\n",
      "75  5.700000  2.748649  Iris-versicolor\n",
      "76  5.700000  2.900000  Iris-versicolor\n",
      "77  6.200000  2.900000  Iris-versicolor\n",
      "78  5.100000  2.748649  Iris-versicolor\n",
      "79  5.700000  2.800000  Iris-versicolor\n",
      "\n",
      "[80 rows x 3 columns]\n",
      "          x1        x2  type\n",
      "0   5.032432  3.500000     0\n",
      "1   4.900000  3.000000     0\n",
      "2   4.700000  3.200000     0\n",
      "3   4.600000  3.100000     0\n",
      "4   5.000000  3.600000     0\n",
      "..       ...       ...   ...\n",
      "75  5.700000  2.748649     1\n",
      "76  5.700000  2.900000     1\n",
      "77  6.200000  2.900000     1\n",
      "78  5.100000  2.748649     1\n",
      "79  5.700000  2.800000     1\n",
      "\n",
      "[80 rows x 3 columns]\n",
      "x1      0\n",
      "x2      0\n",
      "type    0\n",
      "dtype: int64\n"
     ]
    }
   ],
   "source": [
    "#your code here------\n",
    "flower_train = pd.read_csv('flower_train.csv')\n",
    "flower_test = pd.read_csv('flower_test.csv')\n",
    "print(flower_train.isnull().sum())\n",
    "print(flower_train)\n",
    "flower_train[['x1','x2']] = \\\n",
    "flower_train[['x1','x2']].replace(0,np.nan)\n",
    "\n",
    "#change the x1's NaN to the average of x1\n",
    "temp = flower_train[flower_train['x1'].notnull()]\n",
    "temp = temp[['x1','type']].groupby(['type'])[['x1']].mean().reset_index()\n",
    "flower_train.loc[(flower_train['type']=='Iris-setosa')&(flower_train['x1'].isnull()),'x1']=temp['x1'][0]\n",
    "flower_train.loc[(flower_train['type']=='Iris-versicolor')&(flower_train['x1'].isnull()),'x1']=temp['x1'][1]\n",
    "print(flower_train)\n",
    "\n",
    "#change the x2's NaN to the average of x2\n",
    "temp = flower_train[flower_train['x2'].notnull()]\n",
    "temp = temp[['x2','type']].groupby(['type'])[['x2']].mean().reset_index()\n",
    "flower_train.loc[(flower_train['type']=='Iris-setosa')&(flower_train['x2'].isnull()),'x2']=temp['x2'][0]\n",
    "flower_train.loc[(flower_train['type']=='Iris-versicolor')&(flower_train['x2'].isnull()),'x2']=temp['x2'][1]\n",
    "print(flower_train)\n",
    "\n",
    "#replace the type to the 0 and 1\n",
    "flower_train['type'] = np.where(flower_train['type'] == 'Iris-setosa',0,1)\n",
    "print(flower_train)\n",
    "print(flower_train.isnull().sum())"
   ]
  },
  {
   "cell_type": "markdown",
   "id": "75b2fd55",
   "metadata": {},
   "source": [
    "<span style=\"color:purple\">2)在之前的线性回归实验中，我们的模型为$\\hat{y}=\\omega^T x+b$，为方便实验，该实验中我们将偏置量b划入模型参数中，则对应的模型变为$\\hat{y}=\\omega^Tx$，请进行相应的转换  \n",
    "tips:上一次实验中的矩阵求解析解的方法中将某一列全设置为1，即将偏置量b算入模型参数中，特征值中加入一列全1的特征量</span>"
   ]
  },
  {
   "cell_type": "code",
   "execution_count": 11,
   "id": "6c2c4001",
   "metadata": {},
   "outputs": [
    {
     "name": "stdout",
     "output_type": "stream",
     "text": [
      "[[1.         5.03243243 3.5       ]\n",
      " [1.         4.9        3.        ]\n",
      " [1.         4.7        3.2       ]\n",
      " [1.         4.6        3.1       ]\n",
      " [1.         5.         3.6       ]\n",
      " [1.         5.4        3.9       ]\n",
      " [1.         4.6        3.44324324]\n",
      " [1.         5.         3.4       ]\n",
      " [1.         4.4        2.9       ]\n",
      " [1.         4.9        3.1       ]\n",
      " [1.         5.4        3.7       ]\n",
      " [1.         4.8        3.4       ]\n",
      " [1.         5.03243243 3.        ]\n",
      " [1.         4.3        3.        ]\n",
      " [1.         5.8        4.        ]\n",
      " [1.         5.7        4.4       ]\n",
      " [1.         5.4        3.9       ]\n",
      " [1.         5.1        3.5       ]\n",
      " [1.         5.7        3.44324324]\n",
      " [1.         5.1        3.8       ]\n",
      " [1.         5.4        3.4       ]\n",
      " [1.         5.1        3.7       ]\n",
      " [1.         4.6        3.6       ]\n",
      " [1.         5.1        3.3       ]\n",
      " [1.         4.8        3.4       ]\n",
      " [1.         5.         3.        ]\n",
      " [1.         5.         3.4       ]\n",
      " [1.         5.2        3.5       ]\n",
      " [1.         5.2        3.4       ]\n",
      " [1.         4.7        3.2       ]\n",
      " [1.         4.8        3.1       ]\n",
      " [1.         5.03243243 3.4       ]\n",
      " [1.         5.2        4.1       ]\n",
      " [1.         5.5        4.2       ]\n",
      " [1.         4.9        3.1       ]\n",
      " [1.         5.         3.2       ]\n",
      " [1.         5.5        3.5       ]\n",
      " [1.         4.9        3.1       ]\n",
      " [1.         4.4        3.44324324]\n",
      " [1.         5.1        3.4       ]\n",
      " [1.         5.         2.        ]\n",
      " [1.         5.9        3.        ]\n",
      " [1.         6.         2.2       ]\n",
      " [1.         5.91315789 2.9       ]\n",
      " [1.         5.6        2.9       ]\n",
      " [1.         6.7        3.1       ]\n",
      " [1.         5.6        3.        ]\n",
      " [1.         5.8        2.7       ]\n",
      " [1.         6.2        2.2       ]\n",
      " [1.         5.6        2.5       ]\n",
      " [1.         5.9        3.2       ]\n",
      " [1.         6.1        2.8       ]\n",
      " [1.         6.3        2.5       ]\n",
      " [1.         6.1        2.8       ]\n",
      " [1.         6.4        2.9       ]\n",
      " [1.         6.6        3.        ]\n",
      " [1.         6.8        2.8       ]\n",
      " [1.         6.7        3.        ]\n",
      " [1.         6.         2.9       ]\n",
      " [1.         5.7        2.74864865]\n",
      " [1.         5.5        2.4       ]\n",
      " [1.         5.5        2.4       ]\n",
      " [1.         5.8        2.7       ]\n",
      " [1.         6.         2.7       ]\n",
      " [1.         5.4        3.        ]\n",
      " [1.         6.         3.4       ]\n",
      " [1.         6.7        3.1       ]\n",
      " [1.         6.3        2.3       ]\n",
      " [1.         5.6        3.        ]\n",
      " [1.         5.5        2.5       ]\n",
      " [1.         5.5        2.6       ]\n",
      " [1.         6.1        3.        ]\n",
      " [1.         5.8        2.6       ]\n",
      " [1.         5.91315789 2.3       ]\n",
      " [1.         5.6        2.7       ]\n",
      " [1.         5.7        2.74864865]\n",
      " [1.         5.7        2.9       ]\n",
      " [1.         6.2        2.9       ]\n",
      " [1.         5.1        2.74864865]\n",
      " [1.         5.7        2.8       ]]\n",
      "[-0.39076694  0.48620183 -0.5717529 ]\n"
     ]
    }
   ],
   "source": [
    "#your code here------\n",
    "x_train = flower_train[['x1','x2']].values\n",
    "y_train = flower_train['type'].values\n",
    "X = np.array(x_train)\n",
    "y = np.array(y_train)\n",
    "X = np.hstack((np.ones((X.shape[0],1)),X))\n",
    "w = np.linalg.inv(X.T.dot(X)).dot(X.T).dot(y)\n",
    "print(X)\n",
    "print(w)"
   ]
  },
  {
   "cell_type": "markdown",
   "id": "fec5c2ed",
   "metadata": {},
   "source": [
    "<span style=\"color:purple\">3) 由于逻辑回归的原理是用逻辑函数把线性回归的结果(-∞,∞)映射到(0,1)所以逻辑回归适合于二分类问题。我们使用sigmoid函数$g(z)=\\frac{1}{1+e^{-z}}$将把线性回归的结果从(-∞,∞)映射到(0,1)。  \n",
    "    假设模型为线性回归模型$\\hat{y}=\\omega_0+\\omega_1 x_1+\\omega_2 x_2+...+\\omega_n x_n=\\omega^T x$，则任意样本所对应发生的概率值函数即为$g(\\hat{y})=\\frac{1}{1+e^{-\\hat{y}}}$，这样事情发生(定义为标签为1)的概率为$$P(y=1|x)=\\frac{1}{1+e^{-\\omega^T x}}$$  \n",
    "    对应于任意一个样本(${x_i}$,$y_i$),其中$x_i$为特征值，$y_i$为实际结果值,在参数$\\omega$下，该样本发生的概率为$$P(y_i|x_i,\\omega)=y_i{P(y_i=1|x_i)}+({1-y_i}){P(y_i=0|x_i)}$$\n",
    "    将每个样本发生概率相乘，得到似然函数:$$\\Pi^m_{i=1}{P(y_i|x_i,\\omega)}$$\n",
    "    为了计算方便，一般取对数得到对数似然函数:$$L(\\omega)=\\sum^m_{i=1}{lnP(y_i|x_i,\\omega)}$$  \n",
    "    我们总是希望出现预测正确的概率的可能性最大，即想要得到极大化似然函数对应的参数$\\omega$。这样最大化似然函数就转变为最小化似然函数的负数，取负的平均对数似然函数为损失函数,通过这样构建的损失函数$$J(\\omega)=-\\frac{1}{m}\\sum^m_{i=1}{lnP(y_i|x_i,\\omega)}=-\\frac{1}{m}\\sum^m_{i=1}ln(y_i\\frac{1}{1+e^{-\\omega^T x_i}}+(1-y_i)\\frac{e^{-\\omega^T x_i}}{1+e^{-\\omega^T x_i}})$$  \n",
    "    手动实现梯度下降法(不使用机器学习框架，如PyTorch、TensorFlow等)来进行模型的训练。  </span>"
   ]
  },
  {
   "cell_type": "markdown",
   "id": "f1a81c73",
   "metadata": {},
   "source": [
    "<span style=\"color:purple\">算法步骤如下：①初始化模型参数$\\omega$的值；②在负梯度的方向上更新参数(由于该实验涉及样本数量较小，建议使用批量梯度下降)，并不断迭代这一步骤。</span>"
   ]
  },
  {
   "cell_type": "markdown",
   "id": "4e922340",
   "metadata": {},
   "source": [
    "<span style=\"color:purple\">其中梯度的下降偏导公式为\n",
    "    $$\\frac{\\partial J}{\\partial \\omega_j}=\\frac{1}{m}\\sum_{i=1}^m x_{ij}(\\frac{e^{\\omega^T x_i}}{1+e^{\\omega^T x_i}}-y_i)$$  \n",
    "    参数更新的公式为$$\\omega_j =\\omega_j-\\eta\\frac{\\partial J}{\\partial w_j}$$其中$\\eta$表示学习率，$m$则表示批量中的样本数量，$x_{ij}$代表着第i个样本的第j个特征值,$y_i$代表着第i个样本的真实值</span>"
   ]
  },
  {
   "cell_type": "code",
   "execution_count": 12,
   "id": "8a92473b",
   "metadata": {},
   "outputs": [
    {
     "name": "stdout",
     "output_type": "stream",
     "text": [
      "Iteration 0, Loss: 0.6858786199125906\n",
      "Iteration 100, Loss: 0.3461727849593367\n",
      "Iteration 200, Loss: 0.24141361529364885\n",
      "Iteration 300, Loss: 0.19138469412709264\n",
      "Iteration 400, Loss: 0.1617224232229813\n",
      "Iteration 500, Loss: 0.1418713183063182\n",
      "Iteration 600, Loss: 0.1275271976560542\n",
      "Iteration 700, Loss: 0.11660091476516296\n",
      "Iteration 800, Loss: 0.1079520319645341\n",
      "Iteration 900, Loss: 0.10090301696874375\n",
      "Trained weights: [-0.54721601  3.06924939 -5.18742472]\n"
     ]
    }
   ],
   "source": [
    "#your code here------\n",
    "\n",
    "# 定义 Sigmoid 函数\n",
    "def sigmoid(z):\n",
    "    return 1 / (1 + np.exp(-z))\n",
    "\n",
    "# 计算损失函数 J(ω)\n",
    "def compute_loss(X, y, w):\n",
    "    m = len(y)\n",
    "    y_hat = sigmoid(X.dot(w))  # 预测值\n",
    "    loss = -np.mean(y * np.log(y_hat) + (1 - y) * np.log(1 - y_hat))\n",
    "    return loss\n",
    "\n",
    "# 计算梯度\n",
    "def compute_gradient(X, y, w):\n",
    "    m = len(y)\n",
    "    y_hat = sigmoid(X.dot(w))\n",
    "    gradient = (1 / m) * X.T.dot(y_hat - y)\n",
    "    return gradient\n",
    "\n",
    "# 梯度下降法训练逻辑回归模型\n",
    "def logistic_regression(X, y, learning_rate=0.01, num_iterations=1000):\n",
    "    # 初始化模型参数 ω\n",
    "    w = np.zeros(X.shape[1])\n",
    "\n",
    "    # 迭代更新参数\n",
    "    for i in range(num_iterations):\n",
    "        gradient = compute_gradient(X, y, w)  # 计算梯度\n",
    "        w = w - learning_rate * gradient      # 更新权重\n",
    "        # 打印每 100 次迭代的损失\n",
    "        if i % 100 == 0:\n",
    "            loss = compute_loss(X, y, w)\n",
    "            print(f\"Iteration {i}, Loss: {loss}\")\n",
    "\n",
    "    return w\n",
    "\n",
    "# 训练模型\n",
    "learning_rate = 0.1\n",
    "num_iterations = 1000\n",
    "w = logistic_regression(X, y, learning_rate, num_iterations)\n",
    "\n",
    "print(\"Trained weights:\", w)"
   ]
  },
  {
   "cell_type": "markdown",
   "id": "b24f2e7e",
   "metadata": {},
   "source": [
    "<span style=\"color:purple\">4)在模型训练完成后得到所训练的模型参数$\\omega$，在测试集上进行所训练模型的测试并使用之前所介绍的损失函数计算loss值</span>"
   ]
  },
  {
   "cell_type": "code",
   "execution_count": 13,
   "id": "a4253a5c",
   "metadata": {},
   "outputs": [
    {
     "data": {
      "text/plain": [
       "np.float64(0.22597461630133253)"
      ]
     },
     "execution_count": 13,
     "metadata": {},
     "output_type": "execute_result"
    }
   ],
   "source": [
    "#your code here------\n",
    "\n",
    "x_test = flower_test[['x1','x2']].values\n",
    "y_test = flower_test['type'].values\n",
    "X_test = np.array(x_test)\n",
    "y_test = np.array(y_test)\n",
    "\n",
    "X_test = np.hstack([np.ones((X_test.shape[0], 1)), X_test])  # Add bias column if needed\n",
    "y_pred_prob = sigmoid(X_test.dot(w))\n",
    "# Calculate the loss (Negative Log Likelihood)\n",
    "compute_loss(X_test, y_pred_prob, w)"
   ]
  },
  {
   "cell_type": "markdown",
   "id": "dd339060",
   "metadata": {},
   "source": [
    "<span style=\"color:purple\">5)使用训练后的逻辑回归模型对测试数据集'flower_test.csv'进行预测，输出可视化结果（比如用seaborn或者matplotlib等可视化库来画出测试数据的散点图以及训练好的模型函数图像)，要求如下:  \n",
    "    1.将所得到的逻辑回归模型所得到的决策边界绘制出来  \n",
    "  2.测试集的所有点在同一幅图中进行绘制  \n",
    "  3.需要给不同类别的测试点不同颜色，方便通过颜色的区别直观看到预测正确和错误的样本</span>"
   ]
  },
  {
   "cell_type": "code",
   "execution_count": 14,
   "id": "3597e87c",
   "metadata": {},
   "outputs": [
    {
     "name": "stdout",
     "output_type": "stream",
     "text": [
      "     x1   x2  type\n",
      "0   5.0  3.5     0\n",
      "1   4.5  2.3     0\n",
      "2   4.4  3.2     0\n",
      "3   5.0  3.6     0\n",
      "4   5.1  3.8     0\n",
      "5   4.8  3.0     0\n",
      "6   5.1  3.7     0\n",
      "7   4.6  3.2     0\n",
      "8   5.3  3.7     0\n",
      "9   5.0  3.3     0\n",
      "10  7.0  3.2     1\n",
      "11  6.4  3.2     1\n",
      "12  6.9  3.1     1\n",
      "13  5.5  2.3     1\n",
      "14  6.5  2.8     1\n",
      "15  5.7  2.8     1\n",
      "16  6.0  3.5     1\n",
      "17  4.9  2.4     1\n",
      "18  6.6  2.9     1\n",
      "19  5.2  2.7     1\n"
     ]
    },
    {
     "data": {
      "image/png": "[encoded data removed]",
      "text/plain": [
       "<Figure size 700x500 with 1 Axes>"
      ]
     },
     "metadata": {},
     "output_type": "display_data"
    },
    {
     "data": {
      "text/plain": [
       "'\\n可使用plt.scatter来绘制出测试集的每个样本点，并设置指定颜色来区分预测正确和错误的样本\\nplt.scatter(x,y,c=\"color\")，x、y为坐标值，c为指定颜色\\n'"
      ]
     },
     "execution_count": 14,
     "metadata": {},
     "output_type": "execute_result"
    }
   ],
   "source": [
    "#your code here------\n",
    "\n",
    "plt.figure(figsize=(7,5))\n",
    "x_min, x_max = 0, 8\n",
    "y_min, y_max = 0, 6\n",
    "\n",
    "boundary_x, boundary_y = np.meshgrid(np.arange(x_min, x_max, 0.01),np.arange(y_min, y_max, 0.01))\n",
    "grid = np.c_[boundary_x.ravel(), boundary_y.ravel()]\n",
    "#加入偏置对应的一列\n",
    "e=np.ones((len(grid),1))\n",
    "grid=np.c_[e,grid]\n",
    "#假定下列的模型参数\n",
    "w=np.array([[0],[3],[-6]])\n",
    "#计算出网格点中每个点对应的逻辑回归预测值\n",
    "z=grid.dot(w)\n",
    "for i in range(len(z)):\n",
    "    z[i][0]=(1/(1+np.exp(-z[i])))\n",
    "    if(z[i][0]<0.5):z[i][0]=0\n",
    "    else:z[i][0]=1\n",
    "#转换shape以作出决策边界\n",
    "z=z.reshape(boundary_x.shape)\n",
    "plt.contourf(boundary_x, boundary_y, z, cmap=plt.cm.Spectral, zorder=1)\n",
    "\n",
    "flower_test['type'] = np.where(flower_test['type'] == 'Iris-setosa',0,1)\n",
    "print(flower_test)\n",
    "class_1=flower_test[flower_test['type']==1]\n",
    "class_0=flower_test[flower_test['type']==0]\n",
    "plt.xlim(0,8)\n",
    "plt.ylim(0,6)\n",
    "plt.scatter(class_1['x1'],class_1['x2'],c='purple')\n",
    "plt.scatter(class_0['x1'],class_0['x2'],c='yellow')\n",
    "plt.show()\n",
    "\n",
    "\"\"\"\n",
    "可使用plt.scatter来绘制出测试集的每个样本点，并设置指定颜色来区分预测正确和错误的样本\n",
    "plt.scatter(x,y,c=\"color\")，x、y为坐标值，c为指定颜色\n",
    "\"\"\"\n"
   ]
  },
  {
   "cell_type": "markdown",
   "id": "b869bee1",
   "metadata": {},
   "source": [
    "**<font color = blue size=4>第三部分:逻辑回归实验二</font>**"
   ]
  },
  {
   "cell_type": "markdown",
   "id": "cf3a5a55",
   "metadata": {},
   "source": [
    "<span style=\"color:purple\">该数据集(train_titanic.csv和test_titanic.csv)同样为分类数据集，为泰坦尼克号的乘客信息以及最后是否生还。包括了七个特征值以及一个类别特征(即为Survived类型,代表是否生还),特征信息分别为Passengerid(乘客id)，Age(乘客年龄)，Fare(船票价格),Sex(性别)，sibsp(堂兄弟妹个数)，Parch(父母与小孩的个数)，Pclass(乘客等级)</span>"
   ]
  },
  {
   "cell_type": "code",
   "execution_count": null,
   "id": "9dfb7e37-ff69-4d89-88a2-deb7fbc29870",
   "metadata": {},
   "outputs": [],
   "source": []
  },
  {
   "cell_type": "markdown",
   "id": "f4a492fe",
   "metadata": {},
   "source": [
    "<span style=\"color:purple\">该数据集已经做了处理，无缺失值和空值，且字符串类型全部转换成了整数类型，但是七个特征值与最后是否生还关联度不同。该实验的任务依然是在训练集上使用逻辑回归方法和手动实现的梯度下降方法完成模型训练。</span>"
   ]
  },
  {
   "cell_type": "code",
   "execution_count": 15,
   "id": "7ebd3c1e",
   "metadata": {},
   "outputs": [],
   "source": [
    "import pandas as pd\n",
    "import numpy as np\n",
    "import matplotlib.pyplot as plt\n",
    "import math"
   ]
  },
  {
   "cell_type": "markdown",
   "id": "915ff106",
   "metadata": {},
   "source": [
    "<span style=\"color:purple\">1) 使用pandas库将训练数据集'train_titanic.csv'与测试数据集'test_titanic.csv'载入到Dataframe对象中。</span>"
   ]
  },
  {
   "cell_type": "code",
   "execution_count": null,
   "id": "9d018ed9-b77b-43d0-934d-621647bd3bc2",
   "metadata": {},
   "outputs": [],
   "source": []
  },
  {
   "cell_type": "code",
   "execution_count": 16,
   "id": "7056ffde",
   "metadata": {},
   "outputs": [
    {
     "name": "stdout",
     "output_type": "stream",
     "text": [
      "   Passengerid   Age     Fare  Sex  sibsp  Parch  Pclass  Survived\n",
      "0            1  22.0   7.2500    0      1      0       3         0\n",
      "1            2  38.0  71.2833    1      1      0       1         1\n",
      "2            3  26.0   7.9250    1      0      0       3         1\n",
      "3            4  35.0  53.1000    1      1      0       1         1\n",
      "4            5  35.0   8.0500    0      0      0       3         0\n",
      "   Passengerid   Age     Fare  Sex  sibsp  Parch  Pclass  Survived\n",
      "0          471  28.0   7.2500    0      0      0       3         0\n",
      "1          472  38.0   8.6625    0      0      0       3         0\n",
      "2          473  33.0  27.7500    1      1      2       2         1\n",
      "3          474  23.0  13.7917    1      0      0       2         1\n",
      "4          475  22.0   9.8375    1      0      0       3         0\n"
     ]
    }
   ],
   "source": [
    "#your code here------\n",
    "train_data = pd.read_csv('train_titanic.csv')\n",
    "test_data = pd.read_csv('test_titanic.csv')\n",
    "print(train_data.head())\n",
    "print(test_data.head())"
   ]
  },
  {
   "cell_type": "markdown",
   "id": "9abde442",
   "metadata": {},
   "source": [
    "<span style=\"color:purple\">2) 选择至少四个特征建立逻辑回归模型，利用梯度下降方法(由于该数据集样本数量较大，所以建议使用随机梯度下降法或小批量梯度下降法)进行模型训练，并使用10次10折交叉验证进行模型选择。</span>"
   ]
  },
  {
   "cell_type": "code",
   "execution_count": 17,
   "id": "55e62317",
   "metadata": {},
   "outputs": [
    {
     "name": "stdout",
     "output_type": "stream",
     "text": [
      "Best Accuracy1 from Cross-Validation: 0.7690693069306931\n",
      "Best Model1 Parameters (Theta): [-2.67379707  3.21449404  2.20760057  2.25324165]\n",
      "Best Accuracy2 from Cross-Validation: 0.771059405940594\n",
      "Best Model2 Parameters (Theta): [-0.40623482 -0.00373512 -0.02909402  1.5134155 ]\n"
     ]
    }
   ],
   "source": [
    "#your code here------\n",
    "import numpy as np\n",
    "import pandas as pd\n",
    "from sklearn.model_selection import KFold\n",
    "\n",
    "# Load data\n",
    "train_data = pd.read_csv('train_titanic.csv')\n",
    "X = train_data[['Passengerid', 'Fare', 'Age', 'Sex']].values\n",
    "y = train_data['Survived'].values\n",
    "\n",
    "# Sigmoid function\n",
    "def sigmoid(z):\n",
    "    return 1 / (1 + np.exp(-z))\n",
    "\n",
    "# Compute loss\n",
    "def compute_loss(y, y_pred):\n",
    "    m = y.shape[0]\n",
    "    return -np.sum(y * np.log(y_pred) + (1 - y) * np.log(1 - y_pred)) / m\n",
    "\n",
    "# SGD/Mini-Batch Gradient Descent function\n",
    "def gradient_descent(X, y, batch_size=32, learning_rate=0.01, epochs=100):\n",
    "    m, n = X.shape\n",
    "    theta = np.zeros(n)\n",
    "    for epoch in range(epochs):\n",
    "        # Shuffle data for each epoch\n",
    "        indices = np.arange(m)\n",
    "        np.random.shuffle(indices)\n",
    "        X = X[indices]\n",
    "        y = y[indices]\n",
    "        \n",
    "        # Mini-batch gradient descent\n",
    "        for i in range(0, m, batch_size):\n",
    "            X_batch = X[i:i + batch_size]\n",
    "            y_batch = y[i:i + batch_size]\n",
    "            \n",
    "            # Predictions and gradients\n",
    "            z = np.dot(X_batch, theta)\n",
    "            y_pred = sigmoid(z)\n",
    "            gradient = np.dot(X_batch.T, (y_pred - y_batch)) / batch_size\n",
    "            theta -= learning_rate * gradient\n",
    "\n",
    "    return theta\n",
    "\n",
    "# Prediction function\n",
    "def predict(X, theta, threshold=0.5):\n",
    "    return (sigmoid(np.dot(X, theta)) >= threshold).astype(int)\n",
    "\n",
    "# Cross-validation with 10x10-fold\n",
    "def cross_validate(X, y, k=10, iterations=10):\n",
    "    best_accuracy = 0\n",
    "    best_theta = None\n",
    "    \n",
    "    for _ in range(iterations):\n",
    "        kf = KFold(n_splits=k, shuffle=True, random_state=1)\n",
    "        accuracies = []\n",
    "\n",
    "        for train_index, val_index in kf.split(X):\n",
    "            X_train, X_val = X[train_index], X[val_index]\n",
    "            y_train, y_val = y[train_index], y[val_index]\n",
    "            \n",
    "            # Train with mini-batch gradient descent\n",
    "            theta = gradient_descent(X_train, y_train)\n",
    "            \n",
    "            # Evaluate on validation set\n",
    "            y_pred = predict(X_val, theta)\n",
    "            accuracy = np.mean(y_pred == y_val)\n",
    "            accuracies.append(accuracy)\n",
    "\n",
    "        avg_accuracy = np.mean(accuracies)\n",
    "        \n",
    "        # Track the best theta based on accuracy\n",
    "        if avg_accuracy > best_accuracy:\n",
    "            best_accuracy = avg_accuracy\n",
    "            best_theta = theta\n",
    "            \n",
    "    return best_theta, best_accuracy\n",
    "\n",
    "# Run cross-validation\n",
    "best_theta1, best_accuracy1 = cross_validate(X, y)\n",
    "print(f\"Best Accuracy1 from Cross-Validation: {best_accuracy1}\")\n",
    "print(\"Best Model1 Parameters (Theta):\", best_theta1)\n",
    "\n",
    "\n",
    "X = train_data[['Pclass', 'Fare', 'Age', 'Sex']].values\n",
    "best_theta2, best_accuracy2 = cross_validate(X, y)\n",
    "print(f\"Best Accuracy2 from Cross-Validation: {best_accuracy2}\")\n",
    "print(\"Best Model2 Parameters (Theta):\", best_theta2)"
   ]
  },
  {
   "cell_type": "markdown",
   "id": "95f698bc",
   "metadata": {},
   "source": [
    "<span style=\"color:purple\">3) 使用训练后的逻辑回归模型对测试数据集'test_titanic.csv'进行预测，并计算其精度，查准率，查全率，画出P-R曲线，画出ROC曲线。</span>"
   ]
  },
  {
   "cell_type": "code",
   "execution_count": 26,
   "id": "4dd020b7",
   "metadata": {},
   "outputs": [
    {
     "name": "stdout",
     "output_type": "stream",
     "text": [
      "Test Accuracy: 0.76\n",
      "Test Precision: 0.6944444444444444\n",
      "Test Recall: 0.6578947368421053\n"
     ]
    },
    {
     "data": {
      "image/png": "[encoded data removed]",
      "text/plain": [
       "<Figure size 800x600 with 1 Axes>"
      ]
     },
     "metadata": {},
     "output_type": "display_data"
    },
    {
     "data": {
      "image/png": "[encoded data removed]",
      "text/plain": [
       "<Figure size 800x600 with 1 Axes>"
      ]
     },
     "metadata": {},
     "output_type": "display_data"
    }
   ],
   "source": [
    "#your code here------\n",
    "import numpy as np\n",
    "import pandas as pd\n",
    "from sklearn.metrics import accuracy_score, precision_score, recall_score, roc_curve, auc, precision_recall_curve\n",
    "import matplotlib.pyplot as plt\n",
    "\n",
    "# Load the test data\n",
    "test_data = pd.read_csv('test_titanic.csv')\n",
    "X_test = test_data[['Pclass', 'Fare', 'Age', 'Sex']].values\n",
    "y_test = test_data['Survived'].values\n",
    "\n",
    "\n",
    "# Predict function (reusing the trained model's best_theta)\n",
    "y_test_pred_proba = sigmoid(np.dot(X_test, best_theta2))  # Probability predictions\n",
    "y_test_pred = (y_test_pred_proba >= 0.2).astype(int)     # Binary predictions (0 or 1)\n",
    "\n",
    "# Calculate Metrics\n",
    "accuracy = accuracy_score(y_test, y_test_pred)\n",
    "precision = precision_score(y_test, y_test_pred)\n",
    "recall = recall_score(y_test, y_test_pred)\n",
    "\n",
    "print(\"Test Accuracy:\", accuracy)\n",
    "print(\"Test Precision:\", precision)\n",
    "print(\"Test Recall:\", recall)\n",
    "\n",
    "# Plot Precision-Recall Curve\n",
    "precision_vals, recall_vals, _ = precision_recall_curve(y_test, y_test_pred_proba)\n",
    "plt.figure(figsize=(8, 6))\n",
    "plt.plot(recall_vals, precision_vals, marker='.')\n",
    "plt.xlabel('Recall')\n",
    "plt.ylabel('Precision')\n",
    "plt.title('Precision-Recall Curve')\n",
    "plt.show()\n",
    "\n",
    "# Plot ROC Curve\n",
    "fpr, tpr, _ = roc_curve(y_test, y_test_pred_proba)\n",
    "roc_auc = auc(fpr, tpr)\n",
    "plt.figure(figsize=(8, 6))\n",
    "plt.plot(fpr, tpr, label=f'ROC Curve (AUC = {roc_auc:.2f})')\n",
    "plt.plot([0, 1], [0, 1], 'k--', label='Random Classifier')\n",
    "plt.xlabel('False Positive Rate')\n",
    "plt.ylabel('True Positive Rate')a\n",
    "plt.title('ROC Curve')\n",
    "plt.legend()\n",
    "plt.show()"
   ]
  },
  {
   "cell_type": "code",
   "execution_count": null,
   "id": "57481fac-cb2d-4dc2-866d-0559e4d1ecbb",
   "metadata": {},
   "outputs": [],
   "source": []
  }
 ],
 "metadata": {
  "kernelspec": {
   "display_name": "Python (myenv)",
   "language": "python",
   "name": "myenv"
  },
  "language_info": {
   "codemirror_mode": {
    "name": "ipython",
    "version": 3
   },
   "file_extension": ".py",
   "mimetype": "text/x-python",
   "name": "python",
   "nbconvert_exporter": "python",
   "pygments_lexer": "ipython3",
   "version": "3.13.0"
  }
 },
 "nbformat": 4,
 "nbformat_minor": 5
}
